{
 "cells": [
  {
   "cell_type": "markdown",
   "metadata": {},
   "source": [
    "## LSTM Model "
   ]
  },
  {
   "cell_type": "code",
   "execution_count": null,
   "metadata": {},
   "outputs": [],
   "source": [
    "import tensorflow as tf\n",
    "import sklearn \n",
    "import keras\n",
    "from sklearn.preprocessing import MinMaxScaler\n",
    "from keras.models import Sequential\n",
    "from keras.layers import Dense,Dropout, LSTM\n",
    "from sklearn.model_selection import TimeSeriesSplit"
   ]
  },
  {
   "cell_type": "code",
   "execution_count": null,
   "metadata": {},
   "outputs": [],
   "source": [
    "# get MotherDuck token from env\n",
    "load_dotenv('.env')\n",
    "token = os.getenv('motherduck_token')\n",
    "\n",
    "# connect to the database\n",
    "con = duckdb.connect(f\"md:?motherduck_token={token}\")\n",
    "\n",
    "# define your SQL query\n",
    "sql_query = \"SELECT * FROM stocks_clouddb.msft_data\"\n",
    "\n",
    "# execute the query and fetch the result into a DataFrame\n",
    "df = con.sql(\"SELECT * FROM stocks_clouddb.msft_data\").fetchdf().copy()\n",
    "\n",
    "# display the first few rows of the dataset\n",
    "print(\"First few rows of the dataset:\")\n",
    "print(df.head())"
   ]
  },
  {
   "cell_type": "code",
   "execution_count": null,
   "metadata": {},
   "outputs": [],
   "source": [
    "data = df.filter(['close_price'])\n",
    "# convert the dataframe to a numpy array \n",
    "dataset = data.values \n",
    "\n",
    "# get the number of rows to train the model on \n",
    "training_data_len = math.ceil(len(dataset)*0.8)\n",
    "training_data_len"
   ]
  },
  {
   "cell_type": "code",
   "execution_count": null,
   "metadata": {},
   "outputs": [],
   "source": [
    "# scale the data \n",
    "scaler = MinMaxScaler(feature_range=(0,1))\n",
    "scaled_data = scaler.fit_transform(dataset)\n",
    "scaled_data"
   ]
  },
  {
   "cell_type": "code",
   "execution_count": null,
   "metadata": {},
   "outputs": [],
   "source": [
    "# create the scaled training dataset \n",
    "train_data = scaled_data[0:training_data_len, :]\n",
    "\n",
    "# split the data into x_train and y_train dataset \n",
    "X_train=[]\n",
    "y_train =[]\n",
    "\n",
    "for i in range(60, len(train_data)):\n",
    "    X_train.append(train_data[i-60:i,0])\n",
    "    y_train.append(train_data[i,0])\n",
    "    # set 60 as the time step \n",
    "    if i < 61: \n",
    "        print(X_train)\n",
    "        print(y_train)\n",
    "        print()"
   ]
  },
  {
   "cell_type": "code",
   "execution_count": null,
   "metadata": {},
   "outputs": [],
   "source": [
    "# convert the x_train and y_train to numpy arrays \n",
    "X_train, y_train = np.array(X_train), np.array(y_train)\n",
    "\n",
    "# reshape the data \n",
    "X_train = np.reshape(X_train, (X_train.shape[0], X_train.shape[1], 1))"
   ]
  },
  {
   "cell_type": "code",
   "execution_count": null,
   "metadata": {},
   "outputs": [],
   "source": [
    "# build the LSTM Model\n",
    "model = Sequential()\n",
    "model.add(LSTM(50, return_sequences=True , input_shape = (X_train.shape[1],1))) \n",
    "model.add(LSTM(50, return_sequences=False))\n",
    "model.add(Dense(25))\n",
    "model.add(Dense(1))\n",
    "\n",
    "# compile model \n",
    "model.compile(optimizer='adam', loss='mse')\n",
    "\n",
    "# model training \n",
    "history = model.fit(X_train, y_train, epochs =25, batch_size = 8, verbose =1, shuffle = False)"
   ]
  },
  {
   "cell_type": "code",
   "execution_count": null,
   "metadata": {},
   "outputs": [],
   "source": [
    "loss_per_epoch = history.history['loss']\n",
    "plt.plot(range(len(loss_per_epoch)),loss_per_epoch)\n",
    "\n",
    "plt.xlabel('Epoch')\n",
    "plt.ylabel('Loss')\n",
    "plt.title('Loss per Epoch')\n",
    "plt.show()"
   ]
  },
  {
   "cell_type": "code",
   "execution_count": null,
   "metadata": {},
   "outputs": [],
   "source": [
    "# create the testing dataset \n",
    "# create a new array containing scaled values \n",
    "test_data = scaled_data[training_data_len -60:, :]\n",
    "\n",
    "# create the dataset x_test and y_test \n",
    "x_test =[]\n",
    "y_test = dataset[training_data_len:,:]\n",
    "\n",
    "for i in range(60, len(test_data)):\n",
    "    x_test.append(test_data[i-60:i,0])\n",
    "\n",
    "\n",
    "# convert the data to a numpy array\n",
    "x_test = np.array(x_test )\n",
    "\n",
    "# reshape the data \n",
    "x_test= np.reshape(x_test, (x_test.shape[0], x_test.shape[1],1))"
   ]
  },
  {
   "cell_type": "code",
   "execution_count": null,
   "metadata": {},
   "outputs": [],
   "source": [
    "# get the model predicted price values\n",
    "predictions = model.predict(x_test)\n",
    "predictions = scaler.inverse_transform(predictions)"
   ]
  },
  {
   "cell_type": "code",
   "execution_count": null,
   "metadata": {},
   "outputs": [],
   "source": [
    "# get the root mean squared error (RMSE)\n",
    "rmse= np.sqrt(np.mean(predictions -y_test)**2) \n",
    "rmse "
   ]
  },
  {
   "cell_type": "code",
   "execution_count": null,
   "metadata": {},
   "outputs": [],
   "source": [
    "# plot the data \n",
    "train = data[:training_data_len]\n",
    "valid = data[training_data_len:]\n",
    "valid['Predictions'] = predictions \n",
    "\n",
    "# visualize the data \n",
    "plt.figure (figsize = (16,8))\n",
    "plt.title('Model ')\n",
    "plt.xlabel('Data', fontsize =18)\n",
    "plt.ylabel('Close Price USD $', fontsize=18)\n",
    "\n",
    "plt.plot(train['close_price'])\n",
    "plt.plot(valid[['close_price', 'Predictions']])\n",
    "plt.legend(['Train','Valid','Predictions'], loc='lower right')\n",
    "plt.show()"
   ]
  },
  {
   "cell_type": "code",
   "execution_count": null,
   "metadata": {},
   "outputs": [],
   "source": [
    "# show the valid and predicted prices \n",
    "valid"
   ]
  }
 ],
 "metadata": {
  "kernelspec": {
   "display_name": "stock-price-predition-env",
   "language": "python",
   "name": "python3"
  },
  "language_info": {
   "codemirror_mode": {
    "name": "ipython",
    "version": 3
   },
   "file_extension": ".py",
   "mimetype": "text/x-python",
   "name": "python",
   "nbconvert_exporter": "python",
   "pygments_lexer": "ipython3",
   "version": "3.10.13"
  }
 },
 "nbformat": 4,
 "nbformat_minor": 2
}
